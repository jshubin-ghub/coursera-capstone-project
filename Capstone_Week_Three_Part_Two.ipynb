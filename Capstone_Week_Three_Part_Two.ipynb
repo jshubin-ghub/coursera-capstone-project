{
    "nbformat_minor": 1, 
    "cells": [
        {
            "source": "# Capstone Week Three, Part 2\n## Add geolocation data to Toronto postal code dataframe.", 
            "cell_type": "markdown", 
            "metadata": {
                "collapsed": true
            }
        }, 
        {
            "source": "First we re-create the dataframe from part one of the assignment.", 
            "cell_type": "markdown", 
            "metadata": {}
        }, 
        {
            "execution_count": 1, 
            "cell_type": "code", 
            "metadata": {}, 
            "outputs": [], 
            "source": "import os\nimport urllib.request\nfrom bs4 import BeautifulSoup\n\ntarget_url = 'https://en.wikipedia.org/wiki/List_of_postal_codes_of_Canada:_M'\nwebpage = urllib.request.urlopen(target_url)\nsoup = BeautifulSoup(webpage,'html.parser')\n#print(soup.prettify())\n\nimport pandas as pd\nimport numpy as np\nnbh_frame = pd.DataFrame(columns = ['PostalCode', 'Borough', 'Neighborhood'])\n\nfor entry in soup.find_all('tr'):\n    table_row = []\n    for cell in entry.find_all('td'):\n        table_row.append(cell.get_text())\n    # following line works for the postal code page, but is not robust\n    if len(table_row)==3:\n        table_row[2] = table_row[2].rstrip()\n        if table_row[2] == 'Not assigned':\n            table_row[2] = table_row[1]\n        if table_row[1] != 'Not assigned':\n            if table_row[0] in nbh_frame.PostalCode.values:\n                # duplicate postal zone, so append neighborhood\n                idx = nbh_frame[nbh_frame['PostalCode']==table_row[0]].index.values\n                nbh_frame.iloc[idx,2] += (', ' + table_row[2])\n            else:\n                nbh_frame.loc[len(nbh_frame)] = table_row\n"
        }, 
        {
            "source": "## Attempt to geocode postal codes\nThe following code showed that the Geopy service has trouble resolving the addresses of the  the postal codes, repeatedly failing, or returning the coordinates 43.653963, -79.387207.\n\nChanges to the address format did not improve the performance of the geocoding.\n\n```python\nimport time\nfrom geopy.geocoders import Nominatim \n\nfor postal_code in nbh_frame['PostalCode']:\n    address = '{}, Toronto, Ontario'.format(postal_code)\n    geolocator = Nominatim(user_agent=\"foursquare_agent_js\")\n    count = 0\n    location = None\n    while(location is None):\n        location = geolocator.geocode(address)\n        #time.sleep(1)\n        count += 1\n        if count > 200:\n            break\n    if location == None:\n        print('{} not found'.format(postal_code))\n    else:\n        latitude = location.latitude\n        longitude = location.longitude\n```", 
            "cell_type": "markdown", 
            "metadata": {}
        }, 
        {
            "source": "Completing the geocoding with the help of the provided data.", 
            "cell_type": "markdown", 
            "metadata": {}
        }, 
        {
            "execution_count": 2, 
            "cell_type": "code", 
            "metadata": {}, 
            "outputs": [
                {
                    "execution_count": 2, 
                    "metadata": {}, 
                    "data": {
                        "text/html": "<div>\n<style scoped>\n    .dataframe tbody tr th:only-of-type {\n        vertical-align: middle;\n    }\n\n    .dataframe tbody tr th {\n        vertical-align: top;\n    }\n\n    .dataframe thead th {\n        text-align: right;\n    }\n</style>\n<table border=\"1\" class=\"dataframe\">\n  <thead>\n    <tr style=\"text-align: right;\">\n      <th></th>\n      <th>Postal Code</th>\n      <th>Latitude</th>\n      <th>Longitude</th>\n    </tr>\n  </thead>\n  <tbody>\n    <tr>\n      <th>0</th>\n      <td>M1B</td>\n      <td>43.806686</td>\n      <td>-79.194353</td>\n    </tr>\n    <tr>\n      <th>1</th>\n      <td>M1C</td>\n      <td>43.784535</td>\n      <td>-79.160497</td>\n    </tr>\n    <tr>\n      <th>2</th>\n      <td>M1E</td>\n      <td>43.763573</td>\n      <td>-79.188711</td>\n    </tr>\n    <tr>\n      <th>3</th>\n      <td>M1G</td>\n      <td>43.770992</td>\n      <td>-79.216917</td>\n    </tr>\n    <tr>\n      <th>4</th>\n      <td>M1H</td>\n      <td>43.773136</td>\n      <td>-79.239476</td>\n    </tr>\n  </tbody>\n</table>\n</div>", 
                        "text/plain": "  Postal Code   Latitude  Longitude\n0         M1B  43.806686 -79.194353\n1         M1C  43.784535 -79.160497\n2         M1E  43.763573 -79.188711\n3         M1G  43.770992 -79.216917\n4         M1H  43.773136 -79.239476"
                    }, 
                    "output_type": "execute_result"
                }
            ], 
            "source": "target_url = 'http://cocl.us/Geospatial_data'\ngeodata_df = pd.read_csv(target_url)\ngeodata_df.head()"
        }, 
        {
            "execution_count": 3, 
            "cell_type": "code", 
            "metadata": {}, 
            "outputs": [
                {
                    "execution_count": 3, 
                    "metadata": {}, 
                    "data": {
                        "text/html": "<div>\n<style scoped>\n    .dataframe tbody tr th:only-of-type {\n        vertical-align: middle;\n    }\n\n    .dataframe tbody tr th {\n        vertical-align: top;\n    }\n\n    .dataframe thead th {\n        text-align: right;\n    }\n</style>\n<table border=\"1\" class=\"dataframe\">\n  <thead>\n    <tr style=\"text-align: right;\">\n      <th></th>\n      <th>PostalCode</th>\n      <th>Borough</th>\n      <th>Neighborhood</th>\n      <th>Postal Code</th>\n      <th>Latitude</th>\n      <th>Longitude</th>\n    </tr>\n  </thead>\n  <tbody>\n    <tr>\n      <th>0</th>\n      <td>M3A</td>\n      <td>North York</td>\n      <td>Parkwoods</td>\n      <td>M3A</td>\n      <td>43.753259</td>\n      <td>-79.329656</td>\n    </tr>\n    <tr>\n      <th>1</th>\n      <td>M4A</td>\n      <td>North York</td>\n      <td>Victoria Village</td>\n      <td>M4A</td>\n      <td>43.725882</td>\n      <td>-79.315572</td>\n    </tr>\n    <tr>\n      <th>2</th>\n      <td>M5A</td>\n      <td>Downtown Toronto</td>\n      <td>Harbourfront, Regent Park</td>\n      <td>M5A</td>\n      <td>43.654260</td>\n      <td>-79.360636</td>\n    </tr>\n    <tr>\n      <th>3</th>\n      <td>M6A</td>\n      <td>North York</td>\n      <td>Lawrence Heights, Lawrence Manor</td>\n      <td>M6A</td>\n      <td>43.718518</td>\n      <td>-79.464763</td>\n    </tr>\n    <tr>\n      <th>4</th>\n      <td>M7A</td>\n      <td>Queen's Park</td>\n      <td>Queen's Park</td>\n      <td>M7A</td>\n      <td>43.662301</td>\n      <td>-79.389494</td>\n    </tr>\n  </tbody>\n</table>\n</div>", 
                        "text/plain": "  PostalCode           Borough                      Neighborhood Postal Code  \\\n0        M3A        North York                         Parkwoods         M3A   \n1        M4A        North York                  Victoria Village         M4A   \n2        M5A  Downtown Toronto         Harbourfront, Regent Park         M5A   \n3        M6A        North York  Lawrence Heights, Lawrence Manor         M6A   \n4        M7A      Queen's Park                      Queen's Park         M7A   \n\n    Latitude  Longitude  \n0  43.753259 -79.329656  \n1  43.725882 -79.315572  \n2  43.654260 -79.360636  \n3  43.718518 -79.464763  \n4  43.662301 -79.389494  "
                    }, 
                    "output_type": "execute_result"
                }
            ], 
            "source": "merged_df = pd.merge(nbh_frame, geodata_df, left_on='PostalCode', right_on='Postal Code')\nmerged_df.drop(['Postal Code'], axis = 1)\nmerged_df.head()"
        }, 
        {
            "execution_count": 4, 
            "cell_type": "code", 
            "metadata": {}, 
            "outputs": [
                {
                    "execution_count": 4, 
                    "metadata": {}, 
                    "data": {
                        "text/plain": "(103, 6)"
                    }, 
                    "output_type": "execute_result"
                }
            ], 
            "source": "merged_df.shape"
        }
    ], 
    "metadata": {
        "kernelspec": {
            "display_name": "Python 3.6", 
            "name": "python3", 
            "language": "python"
        }, 
        "language_info": {
            "mimetype": "text/x-python", 
            "nbconvert_exporter": "python", 
            "version": "3.6.8", 
            "name": "python", 
            "file_extension": ".py", 
            "pygments_lexer": "ipython3", 
            "codemirror_mode": {
                "version": 3, 
                "name": "ipython"
            }
        }
    }, 
    "nbformat": 4
}